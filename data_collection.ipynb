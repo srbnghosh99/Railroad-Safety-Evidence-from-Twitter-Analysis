{
 "cells": [
  {
   "cell_type": "markdown",
   "metadata": {},
   "source": [
    "twarc set up"
   ]
  },
  {
   "cell_type": "code",
   "execution_count": null,
   "metadata": {},
   "outputs": [],
   "source": [
    "!pip install twarc\n",
    "!pip install --upgrade twarc-csv\n",
    "!twarc2 configure"
   ]
  },
  {
   "cell_type": "markdown",
   "metadata": {},
   "source": [
    "Data Collection"
   ]
  },
  {
   "cell_type": "code",
   "execution_count": null,
   "metadata": {},
   "outputs": [],
   "source": [
    "#search tweets with keywords\n",
    "twarc2 search --start-time \"2022-06-01\" --end-time \"2022-0-15\" --archive \"(\\\"#NoTrespassing\\\" OR \\\"#railsafety\\\" OR \\\"#StopTrespassing\\\" OR \\\"#TracksAreForTrains\\\" OR \\\"#RailroadSafety\\\" OR \\\"#RailTransport\\\" OR \\\"#Railroaders\\\" OR \\\"railroad trespassing\\\" OR \\\"#StayOffTheTracks\\\" OR \\\"#TracksAreForTrains\\\" OR \\\"railroad trespasser\\\" OR \\\"rail track trespassing\\\" OR \\\"rail track trespasser\\\")\" tweets_trespassing2.json"
   ]
  },
  {
   "cell_type": "code",
   "execution_count": null,
   "metadata": {},
   "outputs": [],
   "source": [
    "#search tweets on Missouri Train accident\n",
    "twarc2 search --start-time \"2022-06-25\" --end-time \"2022-07-08\" --archive \"(\\\"Missouri train accident\\\" OR \\\"Amtrak train\\\")\" amtrak.json"
   ]
  },
  {
   "cell_type": "code",
   "execution_count": null,
   "metadata": {},
   "outputs": [],
   "source": [
    "#search tweets from USDOTFRA tweeter account\n",
    "twarc2 search --archive \"from:USDOTFRA\" USDOTFRA.json\n"
   ]
  },
  {
   "cell_type": "code",
   "execution_count": null,
   "metadata": {},
   "outputs": [],
   "source": [
    "#search tweets with #RailSafety Keywords\n",
    "twarc2 search --start-time 2010-01-01 \"#RailSafety\" tweets.jsonl\n"
   ]
  },
  {
   "cell_type": "code",
   "execution_count": null,
   "metadata": {},
   "outputs": [],
   "source": [
    "#search tweets with \"railroad trespassing\" keywords\n",
    "twarc search 'railroad trespassing' > tweets.json\n"
   ]
  },
  {
   "cell_type": "code",
   "execution_count": null,
   "metadata": {},
   "outputs": [],
   "source": [
    "#search tweets with \"railroad safety\" keywords\n",
    "twarc2 search --start-time 2017-01-01 --end-time 2022-05-17 \"railroad safety\" tweets.jsonl"
   ]
  },
  {
   "cell_type": "code",
   "execution_count": null,
   "metadata": {},
   "outputs": [],
   "source": [
    "## count number of tweets in filename\n",
    "wc -l filename.json"
   ]
  },
  {
   "cell_type": "code",
   "execution_count": null,
   "metadata": {},
   "outputs": [],
   "source": [
    "## convert json file to csv format\n",
    "twarc2 csv tweets_trespassing2.json tweets_trespassing2.csv"
   ]
  },
  {
   "cell_type": "code",
   "execution_count": null,
   "metadata": {},
   "outputs": [],
   "source": [
    " ## Number of tweets\n",
    "Total number of tweet 98240\n",
    "Number of tweets in english language 93239"
   ]
  }
 ],
 "metadata": {
  "language_info": {
   "name": "python"
  }
 },
 "nbformat": 4,
 "nbformat_minor": 2
}
